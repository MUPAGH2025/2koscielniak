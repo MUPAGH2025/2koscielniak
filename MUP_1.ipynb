{
 "cells": [
  {
   "metadata": {
    "ExecuteTime": {
     "end_time": "2025-10-29T14:52:14.192872Z",
     "start_time": "2025-10-29T14:52:14.189284Z"
    }
   },
   "cell_type": "code",
   "source": "# !pip install open_atmos_jupyter_utils",
   "id": "9f0c1aea1ec84aa9",
   "outputs": [],
   "execution_count": 42
  },
  {
   "metadata": {
    "ExecuteTime": {
     "end_time": "2025-10-29T14:52:15.397637Z",
     "start_time": "2025-10-29T14:52:14.209580Z"
    }
   },
   "cell_type": "code",
   "source": [
    "import pint\n",
    "from scipy import constants\n",
    "from matplotlib import pyplot\n",
    "import numpy as np\n",
    "from open_atmos_jupyter_utils import show_plot"
   ],
   "id": "f61b0b7203793241",
   "outputs": [],
   "execution_count": 43
  },
  {
   "metadata": {
    "ExecuteTime": {
     "end_time": "2025-10-29T14:52:15.527470Z",
     "start_time": "2025-10-29T14:52:15.403059Z"
    }
   },
   "cell_type": "code",
   "source": "si = pint.UnitRegistry()",
   "id": "c02992d85f2d7736",
   "outputs": [],
   "execution_count": 44
  },
  {
   "metadata": {
    "ExecuteTime": {
     "end_time": "2025-10-29T14:52:15.535756Z",
     "start_time": "2025-10-29T14:52:15.531668Z"
    }
   },
   "cell_type": "code",
   "source": [
    "2 * si.kg + 3 * si.mg\n",
    "R_str = constants.R * si.J / si.K / si.mol\n",
    "Md = 28.966 * si.kg / si.kmol\n",
    "R = R_str/Md"
   ],
   "id": "eeba4817b853bc10",
   "outputs": [],
   "execution_count": 45
  },
  {
   "metadata": {
    "ExecuteTime": {
     "end_time": "2025-10-29T14:52:15.543107Z",
     "start_time": "2025-10-29T14:52:15.540474Z"
    }
   },
   "cell_type": "code",
   "source": [
    "def rho (p, t):\n",
    "    return p/R/t"
   ],
   "id": "a10abe013443a2da",
   "outputs": [],
   "execution_count": 46
  },
  {
   "metadata": {
    "ExecuteTime": {
     "end_time": "2025-10-29T14:52:15.600467Z",
     "start_time": "2025-10-29T14:52:15.548620Z"
    }
   },
   "cell_type": "code",
   "source": "rho=rho(1000*si.hPa, 300*si.K).to(si.g/si.cm^3);",
   "id": "c6dffd61e88e68d5",
   "outputs": [
    {
     "ename": "TypeError",
     "evalue": "unsupported operand type(s) for ^: 'Unit' and 'int'",
     "output_type": "error",
     "traceback": [
      "\u001B[31m---------------------------------------------------------------------------\u001B[39m",
      "\u001B[31mTypeError\u001B[39m                                 Traceback (most recent call last)",
      "\u001B[36mCell\u001B[39m\u001B[36m \u001B[39m\u001B[32mIn[47]\u001B[39m\u001B[32m, line 1\u001B[39m\n\u001B[32m----> \u001B[39m\u001B[32m1\u001B[39m rho=rho(\u001B[32m1000\u001B[39m*si.hPa, \u001B[32m300\u001B[39m*si.K).to(\u001B[43msi\u001B[49m\u001B[43m.\u001B[49m\u001B[43mg\u001B[49m\u001B[43m/\u001B[49m\u001B[43msi\u001B[49m\u001B[43m.\u001B[49m\u001B[43mcm\u001B[49m\u001B[43m^\u001B[49m\u001B[32;43m3\u001B[39;49m);\n",
      "\u001B[31mTypeError\u001B[39m: unsupported operand type(s) for ^: 'Unit' and 'int'"
     ]
    }
   ],
   "execution_count": 47
  },
  {
   "metadata": {
    "ExecuteTime": {
     "end_time": "2025-10-29T14:52:15.602505500Z",
     "start_time": "2025-10-29T14:50:16.250369Z"
    }
   },
   "cell_type": "code",
   "source": "si.setup_matplotlib()",
   "id": "16ef05d9d96b1f47",
   "outputs": [],
   "execution_count": 38
  },
  {
   "metadata": {
    "ExecuteTime": {
     "end_time": "2025-10-29T14:53:05.718755Z",
     "start_time": "2025-10-29T14:53:05.672270Z"
    }
   },
   "cell_type": "code",
   "source": [
    "pyplot.plot(\n",
    "    T := np.linspace(280, 320)*si.K,\n",
    "    rho(1000 * si.hPa, T))\n",
    "pyplot.label(\"gestosc powietrza\")\n",
    "pyplot.gca().xaxis.set_units(si.celsius)"
   ],
   "id": "baa361167760afbe",
   "outputs": [
    {
     "ename": "TypeError",
     "evalue": "operand type(s) all returned NotImplemented from __array_ufunc__(<ufunc 'multiply'>, '__call__', array([280.        , 280.81632653, 281.63265306, 282.44897959,\n       283.26530612, 284.08163265, 284.89795918, 285.71428571,\n       286.53061224, 287.34693878, 288.16326531, 288.97959184,\n       289.79591837, 290.6122449 , 291.42857143, 292.24489796,\n       293.06122449, 293.87755102, 294.69387755, 295.51020408,\n       296.32653061, 297.14285714, 297.95918367, 298.7755102 ,\n       299.59183673, 300.40816327, 301.2244898 , 302.04081633,\n       302.85714286, 303.67346939, 304.48979592, 305.30612245,\n       306.12244898, 306.93877551, 307.75510204, 308.57142857,\n       309.3877551 , 310.20408163, 311.02040816, 311.83673469,\n       312.65306122, 313.46938776, 314.28571429, 315.10204082,\n       315.91836735, 316.73469388, 317.55102041, 318.36734694,\n       319.18367347, 320.        ]), <Quantity(1, 'kelvin')>): 'ndarray', 'Quantity'",
     "output_type": "error",
     "traceback": [
      "\u001B[31m---------------------------------------------------------------------------\u001B[39m",
      "\u001B[31mTypeError\u001B[39m                                 Traceback (most recent call last)",
      "\u001B[36mCell\u001B[39m\u001B[36m \u001B[39m\u001B[32mIn[48]\u001B[39m\u001B[32m, line 2\u001B[39m\n\u001B[32m      1\u001B[39m pyplot.plot(\n\u001B[32m----> \u001B[39m\u001B[32m2\u001B[39m     T := \u001B[43mnp\u001B[49m\u001B[43m.\u001B[49m\u001B[43mlinspace\u001B[49m\u001B[43m(\u001B[49m\u001B[32;43m280\u001B[39;49m\u001B[43m,\u001B[49m\u001B[43m \u001B[49m\u001B[32;43m320\u001B[39;49m\u001B[43m)\u001B[49m\u001B[43m*\u001B[49m\u001B[43msi\u001B[49m\u001B[43m.\u001B[49m\u001B[43mK\u001B[49m, \n\u001B[32m      3\u001B[39m     rho(\u001B[32m1000\u001B[39m * si.hPa, T))\n\u001B[32m      4\u001B[39m pyplot.label(\u001B[33m\"\u001B[39m\u001B[33mgestosc powietrza\u001B[39m\u001B[33m\"\u001B[39m)\n\u001B[32m      5\u001B[39m pyplot.gca().xaxis.set_units(si.celsius)\n",
      "\u001B[36mFile \u001B[39m\u001B[32m~\\PycharmProjects\\MUPLaboratorium1\\.venv\\Lib\\site-packages\\pint\\facets\\numpy\\unit.py:35\u001B[39m, in \u001B[36mNumpyUnit.__array_ufunc__\u001B[39m\u001B[34m(self, ufunc, method, *inputs, **kwargs)\u001B[39m\n\u001B[32m     32\u001B[39m \u001B[38;5;66;03m# Act on limited implementations by conversion to multiplicative identity\u001B[39;00m\n\u001B[32m     33\u001B[39m \u001B[38;5;66;03m# Quantity\u001B[39;00m\n\u001B[32m     34\u001B[39m \u001B[38;5;28;01mif\u001B[39;00m ufunc.\u001B[34m__name__\u001B[39m \u001B[38;5;129;01min\u001B[39;00m (\u001B[33m\"\u001B[39m\u001B[33mtrue_divide\u001B[39m\u001B[33m\"\u001B[39m, \u001B[33m\"\u001B[39m\u001B[33mdivide\u001B[39m\u001B[33m\"\u001B[39m, \u001B[33m\"\u001B[39m\u001B[33mfloor_divide\u001B[39m\u001B[33m\"\u001B[39m, \u001B[33m\"\u001B[39m\u001B[33mmultiply\u001B[39m\u001B[33m\"\u001B[39m):\n\u001B[32m---> \u001B[39m\u001B[32m35\u001B[39m     \u001B[38;5;28;01mreturn\u001B[39;00m \u001B[43mufunc\u001B[49m\u001B[43m(\u001B[49m\n\u001B[32m     36\u001B[39m \u001B[43m        \u001B[49m\u001B[43m*\u001B[49m\u001B[38;5;28;43mtuple\u001B[39;49m\u001B[43m(\u001B[49m\n\u001B[32m     37\u001B[39m \u001B[43m            \u001B[49m\u001B[38;5;28;43mself\u001B[39;49m\u001B[43m.\u001B[49m\u001B[43m_REGISTRY\u001B[49m\u001B[43m.\u001B[49m\u001B[43mQuantity\u001B[49m\u001B[43m(\u001B[49m\u001B[32;43m1\u001B[39;49m\u001B[43m,\u001B[49m\u001B[43m \u001B[49m\u001B[38;5;28;43mself\u001B[39;49m\u001B[43m.\u001B[49m\u001B[43m_units\u001B[49m\u001B[43m)\u001B[49m\u001B[43m \u001B[49m\u001B[38;5;28;43;01mif\u001B[39;49;00m\u001B[43m \u001B[49m\u001B[43marg\u001B[49m\u001B[43m \u001B[49m\u001B[38;5;129;43;01mis\u001B[39;49;00m\u001B[43m \u001B[49m\u001B[38;5;28;43mself\u001B[39;49m\u001B[43m \u001B[49m\u001B[38;5;28;43;01melse\u001B[39;49;00m\u001B[43m \u001B[49m\u001B[43marg\u001B[49m\n\u001B[32m     38\u001B[39m \u001B[43m            \u001B[49m\u001B[38;5;28;43;01mfor\u001B[39;49;00m\u001B[43m \u001B[49m\u001B[43marg\u001B[49m\u001B[43m \u001B[49m\u001B[38;5;129;43;01min\u001B[39;49;00m\u001B[43m \u001B[49m\u001B[43minputs\u001B[49m\n\u001B[32m     39\u001B[39m \u001B[43m        \u001B[49m\u001B[43m)\u001B[49m\u001B[43m,\u001B[49m\n\u001B[32m     40\u001B[39m \u001B[43m        \u001B[49m\u001B[43m*\u001B[49m\u001B[43m*\u001B[49m\u001B[43mkwargs\u001B[49m\u001B[43m,\u001B[49m\n\u001B[32m     41\u001B[39m \u001B[43m    \u001B[49m\u001B[43m)\u001B[49m\n\u001B[32m     43\u001B[39m \u001B[38;5;28;01mreturn\u001B[39;00m \u001B[38;5;28mNotImplemented\u001B[39m\n",
      "\u001B[31mTypeError\u001B[39m: operand type(s) all returned NotImplemented from __array_ufunc__(<ufunc 'multiply'>, '__call__', array([280.        , 280.81632653, 281.63265306, 282.44897959,\n       283.26530612, 284.08163265, 284.89795918, 285.71428571,\n       286.53061224, 287.34693878, 288.16326531, 288.97959184,\n       289.79591837, 290.6122449 , 291.42857143, 292.24489796,\n       293.06122449, 293.87755102, 294.69387755, 295.51020408,\n       296.32653061, 297.14285714, 297.95918367, 298.7755102 ,\n       299.59183673, 300.40816327, 301.2244898 , 302.04081633,\n       302.85714286, 303.67346939, 304.48979592, 305.30612245,\n       306.12244898, 306.93877551, 307.75510204, 308.57142857,\n       309.3877551 , 310.20408163, 311.02040816, 311.83673469,\n       312.65306122, 313.46938776, 314.28571429, 315.10204082,\n       315.91836735, 316.73469388, 317.55102041, 318.36734694,\n       319.18367347, 320.        ]), <Quantity(1, 'kelvin')>): 'ndarray', 'Quantity'"
     ]
    }
   ],
   "execution_count": 48
  },
  {
   "metadata": {},
   "cell_type": "code",
   "outputs": [],
   "execution_count": null,
   "source": "",
   "id": "3277d0dc9b4c21ad"
  }
 ],
 "metadata": {
  "kernelspec": {
   "display_name": "Python 3",
   "language": "python",
   "name": "python3"
  },
  "language_info": {
   "codemirror_mode": {
    "name": "ipython",
    "version": 2
   },
   "file_extension": ".py",
   "mimetype": "text/x-python",
   "name": "python",
   "nbconvert_exporter": "python",
   "pygments_lexer": "ipython2",
   "version": "2.7.6"
  }
 },
 "nbformat": 4,
 "nbformat_minor": 5
}
